{
 "cells": [
  {
   "cell_type": "code",
   "execution_count": 20,
   "metadata": {},
   "outputs": [],
   "source": [
    "import nltk\n",
    "from nltk.tokenize import RegexpTokenizer"
   ]
  },
  {
   "cell_type": "code",
   "execution_count": 42,
   "metadata": {},
   "outputs": [],
   "source": [
    "with open('dataset2.csv') as dataset:\n",
    "    lines = dataset.readlines()\n",
    "    for line in lines:\n",
    "        sentence, cat = line.strip().rsplit(',',1)"
   ]
  },
  {
   "cell_type": "markdown",
   "metadata": {},
   "source": [
    "## Pre-processing the dataset"
   ]
  },
  {
   "cell_type": "markdown",
   "metadata": {},
   "source": [
    "- converting to lower case\n",
    "- tokenize(punctuation preserved as tokens)\n",
    "- remove reviews of length < 5 words"
   ]
  },
  {
   "cell_type": "code",
   "execution_count": 43,
   "metadata": {},
   "outputs": [],
   "source": [
    "def tokenize(sentence):\n",
    "    pattern = r'''(?x)          # set flag to allow verbose regexps\n",
    "            (?:[A-Z]\\.)+        # abbreviations, e.g. U.S.A.\n",
    "          | \\w+(?:['-]\\w+)*     # words with optional internal hyphens, and apostrophe\n",
    "          | \\$?\\d+(?:\\.\\d+)?%?  # currency and percentages, e.g. $12.40, 82%\n",
    "          | \\.\\.\\.              # ellipsis\n",
    "          | [.,;\"?():_`-]       # these are separate tokens\n",
    "        '''\n",
    "    return RegexpTokenizer(pattern).tokenize(text)"
   ]
  },
  {
   "cell_type": "code",
   "execution_count": 44,
   "metadata": {},
   "outputs": [
    {
     "data": {
      "text/plain": [
       "['first',\n",
       " 'time',\n",
       " 'i',\n",
       " 'went',\n",
       " 'there',\n",
       " 'was',\n",
       " ',',\n",
       " 'i',\n",
       " \"don't\",\n",
       " 'know',\n",
       " '.',\n",
       " 'I',\n",
       " 'am',\n",
       " 'sad',\n",
       " '.',\n",
       " '2nd',\n",
       " 'was',\n",
       " 'good',\n",
       " 'vf',\n",
       " 'creg',\n",
       " '?',\n",
       " '.']"
      ]
     },
     "execution_count": 44,
     "metadata": {},
     "output_type": "execute_result"
    }
   ],
   "source": [
    "text = 'first time i went there was, i don\\'t know. I am sad. 2nd was good[vf]creg?.'\n",
    "tokenize(text)"
   ]
  },
  {
   "cell_type": "markdown",
   "metadata": {},
   "source": [
    "## Model for learning embeddings"
   ]
  },
  {
   "cell_type": "markdown",
   "metadata": {},
   "source": [
    "Uni-labeled data : ISEAR \n",
    "\n",
    "LSTM architecture : input -> embedding layer -> hidden layer -> softmax\n",
    "\n",
    "Trg objective : multinomial cross-entropy loss\n",
    "\n",
    "Initialisation of word embeddings:\n",
    "- Glove\n",
    "- random initialisation from N(0,sigma^2) for words not in Glove\n",
    "\n",
    "Model Hyperparameters, learners:\n",
    "- Adam\n",
    "- lr=0.001\n",
    "- mini batch-size : 1024"
   ]
  },
  {
   "cell_type": "markdown",
   "metadata": {},
   "source": [
    "## Classification model for emotion prediction"
   ]
  },
  {
   "cell_type": "markdown",
   "metadata": {},
   "source": [
    "Compared 2 models : one with directly using features from emotion lexicon, other with learnt embeddings as features\n",
    "\n",
    "For word embedding model,\n",
    "    I/P to model -> sentence representation -> average of word vectors of all words in the sentence(size=300)\n",
    "    \n",
    "For model with features from lexicon : \n",
    "    I/P to model -> #words in sentence belonging to each category in the lexicon\n",
    "    \n",
    "2 classification models :\n",
    "- L2 regularised multi class Logistic Regression\n",
    "- SVM\n",
    "10 FCV\n",
    "macro F1-score -> avg F1 score over all emotion labels\n",
    "F1 -> Harmonic mean of Precision and recall"
   ]
  },
  {
   "cell_type": "markdown",
   "metadata": {},
   "source": [
    "### Using learnt emotion-enriched word embeddings"
   ]
  },
  {
   "cell_type": "code",
   "execution_count": 55,
   "metadata": {},
   "outputs": [],
   "source": [
    "emb_file_path = './Datasets/Embeddings/ewe_uni_embeddings.txt' # 300 dimensional\n",
    "with open(emb_file_path, 'r') as emb:\n",
    "    lines = emb.readlines()[:4]\n",
    "    for line in lines:\n",
    "        dims = line.strip().split(\" \")\n",
    "        word = dims[0]\n",
    "        emb = dims[1:] # embedding list"
   ]
  },
  {
   "cell_type": "code",
   "execution_count": null,
   "metadata": {},
   "outputs": [],
   "source": []
  }
 ],
 "metadata": {
  "kernelspec": {
   "display_name": "Python 3",
   "language": "python",
   "name": "python3"
  },
  "language_info": {
   "codemirror_mode": {
    "name": "ipython",
    "version": 3
   },
   "file_extension": ".py",
   "mimetype": "text/x-python",
   "name": "python",
   "nbconvert_exporter": "python",
   "pygments_lexer": "ipython3",
   "version": "3.6.8"
  }
 },
 "nbformat": 4,
 "nbformat_minor": 2
}
