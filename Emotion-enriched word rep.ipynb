{
 "cells": [
  {
   "cell_type": "markdown",
   "metadata": {},
   "source": [
    "## Preparing and Pre-processing the dataset"
   ]
  },
  {
   "cell_type": "markdown",
   "metadata": {},
   "source": [
    "- converting to lower case\n",
    "- tokenize(punctuation preserved as tokens)"
   ]
  },
  {
   "cell_type": "code",
   "execution_count": 2,
   "metadata": {},
   "outputs": [],
   "source": [
    "# declaring constants here which are used throughout\n",
    "EMB_SIZE=300"
   ]
  },
  {
   "cell_type": "code",
   "execution_count": 3,
   "metadata": {},
   "outputs": [],
   "source": [
    "categories = {'anger':0, 'sadness':1, 'joy':2, 'fear':3, 'disgust':4, 'guilt':5, 'shame':6}"
   ]
  },
  {
   "cell_type": "code",
   "execution_count": 4,
   "metadata": {},
   "outputs": [],
   "source": [
    "'''\n",
    "store embeddings in dictionary : {word:[300 sized embedding]}\n",
    "'''\n",
    "word2emb = {}\n",
    "emb_file_path = './Datasets/Embeddings/ewe_uni_embeddings.txt' # 300 dimensional\n",
    "\n",
    "with open(emb_file_path, 'r') as emb:\n",
    "    lines = emb.readlines()\n",
    "    for line in lines:\n",
    "        dims = line.strip().split(\" \")\n",
    "        word = dims[0]\n",
    "        emb = dims[1:] # embedding list\n",
    "        emb = np.array([float(i) for i in emb])\n",
    "        word2emb[word] = emb"
   ]
  },
  {
   "cell_type": "code",
   "execution_count": 30,
   "metadata": {},
   "outputs": [],
   "source": [
    "'''\n",
    "compute sentence representation : take average of word embeddings of all the words in the sentence\n",
    "what about the words not in the embedding matrix?? - randomly initialise?\n",
    "\n",
    "params : list of words of sentence\n",
    "'''\n",
    "def avg_embedding(word_list):\n",
    "    emb_sum = np.array([0]*EMB_SIZE)\n",
    "    mu, sigma = 0, 1\n",
    "    for word in word_list:\n",
    "        try:\n",
    "            emb_sum = np.add(word2emb[word], emb_sum)\n",
    "        except KeyError:\n",
    "            emb_sum = np.add(np.random.normal(mu, sigma, 300), emb_sum) # number of dimensions\n",
    "    return np.true_divide(emb_sum, len(word_list))"
   ]
  },
  {
   "cell_type": "code",
   "execution_count": 9,
   "metadata": {},
   "outputs": [],
   "source": [
    "def pre_process(sentence):\n",
    "    sentence = sentence.lower()\n",
    "    pattern = r'''(?x)          # set flag to allow verbose regexps\n",
    "            (?:[A-Z]\\.)+        # abbreviations, e.g. U.S.A.\n",
    "          | \\w+(?:['-]\\w+)*     # words with optional internal hyphens, and apostrophe\n",
    "          | \\$?\\d+(?:\\.\\d+)?%?  # currency and percentages, e.g. $12.40, 82%\n",
    "          | \\.\\.\\.              # ellipsis\n",
    "          | [.,;\"?():_`-]       # these are separate tokens\n",
    "        '''\n",
    "    return RegexpTokenizer(pattern).tokenize(sentence)"
   ]
  },
  {
   "cell_type": "code",
   "execution_count": 31,
   "metadata": {},
   "outputs": [],
   "source": [
    "with open('./dataset2.csv', 'r') as dataset:\n",
    "    X,y = [],[]\n",
    "    for line in dataset:\n",
    "        sentence, cat = line.strip().rsplit(',',1) # reverse split at first comma\n",
    "        words = pre_process(sentence)\n",
    "        cat = categories[cat]\n",
    "        X.append(avg_embedding(words))\n",
    "        y.append(cat)"
   ]
  },
  {
   "cell_type": "code",
   "execution_count": 32,
   "metadata": {},
   "outputs": [
    {
     "name": "stdout",
     "output_type": "stream",
     "text": [
      "(7503, 300)\n",
      "(7503,)\n"
     ]
    }
   ],
   "source": [
    "X = np.array(X)\n",
    "y = np.array(y)\n",
    "print(X.shape)\n",
    "print(y.shape)"
   ]
  },
  {
   "cell_type": "markdown",
   "metadata": {},
   "source": [
    "## Model for learning embeddings"
   ]
  },
  {
   "cell_type": "markdown",
   "metadata": {},
   "source": [
    "Uni-labeled data : ISEAR \n",
    "\n",
    "architecture : input -> embedding layer -> hidden layer -> softmax\n",
    "\n",
    "Trg objective : multinomial cross-entropy loss\n",
    "\n",
    "Initialisation of word embeddings:\n",
    "- Glove\n",
    "- random initialisation from N(0,sigma^2) for words not in Glove\n",
    "\n",
    "Model Hyperparameters, learners:\n",
    "- Adam\n",
    "- lr=0.001\n",
    "- mini batch-size : 1024"
   ]
  },
  {
   "cell_type": "markdown",
   "metadata": {},
   "source": [
    "## Classification model for emotion prediction"
   ]
  },
  {
   "cell_type": "markdown",
   "metadata": {},
   "source": [
    "Compared 2 models : one with directly using features from emotion lexicon, other with learnt embeddings as features\n",
    "\n",
    "For word embedding model,\n",
    "    I/P to model -> sentence representation -> average of word vectors of all words in the sentence(size=300)\n",
    "    \n",
    "For model with features from lexicon : \n",
    "    I/P to model -> #words in sentence belonging to each category in the lexicon\n",
    "    \n",
    "2 classification models :\n",
    "- L2 regularised multi class Logistic Regression\n",
    "- SVM\n",
    "10 FCV\n",
    "macro F1-score -> avg F1 score over all emotion labels\n",
    "F1 -> Harmonic mean of Precision and recall"
   ]
  },
  {
   "cell_type": "markdown",
   "metadata": {},
   "source": [
    "### Using learnt emotion-enriched word embeddings"
   ]
  },
  {
   "cell_type": "code",
   "execution_count": 41,
   "metadata": {},
   "outputs": [
    {
     "data": {
      "text/plain": [
       "183712"
      ]
     },
     "execution_count": 41,
     "metadata": {},
     "output_type": "execute_result"
    }
   ],
   "source": [
    "len(word2emb)"
   ]
  },
  {
   "cell_type": "markdown",
   "metadata": {},
   "source": [
    "Logistic Regression"
   ]
  },
  {
   "cell_type": "code",
   "execution_count": 33,
   "metadata": {},
   "outputs": [
    {
     "name": "stderr",
     "output_type": "stream",
     "text": [
      "/opt/conda/envs/fastai/lib/python3.6/site-packages/sklearn/linear_model/logistic.py:947: ConvergenceWarning: lbfgs failed to converge. Increase the number of iterations.\n",
      "  \"of iterations.\", ConvergenceWarning)\n",
      "/opt/conda/envs/fastai/lib/python3.6/site-packages/sklearn/linear_model/logistic.py:947: ConvergenceWarning: lbfgs failed to converge. Increase the number of iterations.\n",
      "  \"of iterations.\", ConvergenceWarning)\n",
      "/opt/conda/envs/fastai/lib/python3.6/site-packages/sklearn/linear_model/logistic.py:947: ConvergenceWarning: lbfgs failed to converge. Increase the number of iterations.\n",
      "  \"of iterations.\", ConvergenceWarning)\n",
      "/opt/conda/envs/fastai/lib/python3.6/site-packages/sklearn/linear_model/logistic.py:947: ConvergenceWarning: lbfgs failed to converge. Increase the number of iterations.\n",
      "  \"of iterations.\", ConvergenceWarning)\n",
      "/opt/conda/envs/fastai/lib/python3.6/site-packages/sklearn/linear_model/logistic.py:947: ConvergenceWarning: lbfgs failed to converge. Increase the number of iterations.\n",
      "  \"of iterations.\", ConvergenceWarning)\n",
      "/opt/conda/envs/fastai/lib/python3.6/site-packages/sklearn/linear_model/logistic.py:947: ConvergenceWarning: lbfgs failed to converge. Increase the number of iterations.\n",
      "  \"of iterations.\", ConvergenceWarning)\n",
      "/opt/conda/envs/fastai/lib/python3.6/site-packages/sklearn/linear_model/logistic.py:947: ConvergenceWarning: lbfgs failed to converge. Increase the number of iterations.\n",
      "  \"of iterations.\", ConvergenceWarning)\n",
      "/opt/conda/envs/fastai/lib/python3.6/site-packages/sklearn/linear_model/logistic.py:947: ConvergenceWarning: lbfgs failed to converge. Increase the number of iterations.\n",
      "  \"of iterations.\", ConvergenceWarning)\n",
      "/opt/conda/envs/fastai/lib/python3.6/site-packages/sklearn/linear_model/logistic.py:947: ConvergenceWarning: lbfgs failed to converge. Increase the number of iterations.\n",
      "  \"of iterations.\", ConvergenceWarning)\n",
      "/opt/conda/envs/fastai/lib/python3.6/site-packages/sklearn/linear_model/logistic.py:947: ConvergenceWarning: lbfgs failed to converge. Increase the number of iterations.\n",
      "  \"of iterations.\", ConvergenceWarning)\n",
      "/opt/conda/envs/fastai/lib/python3.6/site-packages/sklearn/linear_model/logistic.py:947: ConvergenceWarning: lbfgs failed to converge. Increase the number of iterations.\n",
      "  \"of iterations.\", ConvergenceWarning)\n"
     ]
    }
   ],
   "source": [
    "lr_classifier = LogisticRegressionCV(cv=10, random_state=0, multi_class='multinomial').fit(X,y)"
   ]
  },
  {
   "cell_type": "code",
   "execution_count": 34,
   "metadata": {},
   "outputs": [
    {
     "data": {
      "text/plain": [
       "0.5175263228042116"
      ]
     },
     "execution_count": 34,
     "metadata": {},
     "output_type": "execute_result"
    }
   ],
   "source": [
    "lr_classifier.score(X, y)"
   ]
  },
  {
   "cell_type": "markdown",
   "metadata": {},
   "source": [
    "Support Vector Machine"
   ]
  },
  {
   "cell_type": "code",
   "execution_count": 20,
   "metadata": {},
   "outputs": [],
   "source": [
    "from sklearn import svm\n",
    "from sklearn.model_selection import cross_val_score"
   ]
  },
  {
   "cell_type": "code",
   "execution_count": 35,
   "metadata": {},
   "outputs": [
    {
     "data": {
      "text/plain": [
       "0.41640952996205804"
      ]
     },
     "execution_count": 35,
     "metadata": {},
     "output_type": "execute_result"
    }
   ],
   "source": [
    "svm_clf = svm.SVC(kernel='linear', C=1)\n",
    "scores = cross_val_score(svm_clf, X, y, cv=10, scoring='f1_macro')\n",
    "scores.mean()"
   ]
  }
 ],
 "metadata": {
  "kernelspec": {
   "display_name": "Python 3",
   "language": "python",
   "name": "python3"
  },
  "language_info": {
   "codemirror_mode": {
    "name": "ipython",
    "version": 3
   },
   "file_extension": ".py",
   "mimetype": "text/x-python",
   "name": "python",
   "nbconvert_exporter": "python",
   "pygments_lexer": "ipython3",
   "version": "3.6.8"
  }
 },
 "nbformat": 4,
 "nbformat_minor": 2
}
